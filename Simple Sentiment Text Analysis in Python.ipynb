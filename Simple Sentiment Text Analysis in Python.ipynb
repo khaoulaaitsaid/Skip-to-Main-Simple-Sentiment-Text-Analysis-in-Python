{
 "cells": [
  {
   "cell_type": "code",
   "execution_count": 4,
   "id": "004e76d6-9901-434a-b1ad-f6b6df76f836",
   "metadata": {},
   "outputs": [
    {
     "name": "stdout",
     "output_type": "stream",
     "text": [
      "« Maths » redirige ici. Pour l’article homophone, voir Math.\n",
      "\n",
      "Les mathématiques (ou la mathématique) sont un ensemble de connaissances abstraites résultant de raisonnements logiques appliqués à des objets divers tels que les ensembles mathématiques, les nombres, les formes, les structures, les transformations, etc. ; ainsi qu'aux relations et opérations mathématiques qui existent entre ces objets. Elles sont aussi le domaine de recherche développant ces connaissances, ainsi que la discipline qui les enseigne.\n",
      "\n",
      "Elles possèdent plusieurs branches telles que : l'arithmétique, l'algèbre, l'analyse, la géométrie, la logique mathématique, les probabilités, etc. Il existe également une certaine séparation entre les mathématiques pures et les mathématiques appliquées.\n",
      "\n",
      "Les mathématiques se distinguent des autres sciences par un rapport particulier au réel car l'observation et l'expérience ne s'y portent pas sur des objets physiques ; les mathématiques ne sont pas une science empirique. Elles sont de nature entièrement intellectuelle, fondées sur des axiomes déclarés vrais ou sur des postulats provisoirement admis. Ces axiomes en constituent les fondements et ne dépendent donc d'aucune autre proposition. Un énoncé mathématique – dénommé généralement, après être validé, théorème, proposition, lemme, fait, scholie ou corollaire – est considéré comme valide lorsque le discours formel qui établit sa vérité respecte une certaine structure rationnelle appelée démonstration, ou raisonnement logicodéductif. Un énoncé qui n'a pas encore fait l'objet d'une démonstration mais qui est néanmoins considéré plausible est appelé conjecture.\n",
      "\n",
      "Bien que les résultats mathématiques soient des vérités purement formelles, ils trouvent des applications dans les autres sciences et dans différents domaines de la technique. C'est ainsi qu'Eugene Wigner déclare que la « déraisonnable efficacité des mathématiques dans les sciences de la nature est une chose presque mystérieuse »[1],[2].\n",
      "\n",
      "Le mot « mathématique » vient du grec par l'intermédiaire du latin. Le mot μάθημα (máthēma) est dérivé du verbe μανθάνω (manthánô) (« apprendre »). Il signifie « science, connaissance » puis « mathématiques » de μαθήματα (mathḗmata) ; il a donné naissance à l'adjectif μαθηματικός (mathematikos), d'abord « relatif au savoir » puis « qui concerne les sciences mathématiques ». Cet adjectif a été adopté en latin (mathematicus) et dans les langues romanes par la suite (« mathématique » en français, matematica en italien, etc. ), ainsi que dans de nombreuses autres langues[3].\n",
      "\n",
      "La forme neutre pluriel de l'adjectif μαθηματικός a été substantivée en τὰ μαθηματικά (tà mathēmatiká) pour désigner les sciences mathématiques dans leur ensemble. Cette forme, utilisée par Aristote, explique l'usage du pluriel pour le substantif en latin chez Cicéron (mathematica) puis en français et dans certaines autres langues européennes.\n",
      "\n",
      "L'usage du pluriel est un héritage de l'époque antique, où le quadrivium regroupait les quatre arts dits « mathématiques » : l'arithmétique, la géométrie, l'astronomie et la musique. Le singulier (« la mathématique ») est parfois employé en français, mais « le mot donne alors au contexte une teinte d'archaïsme ou de didactisme ». Toutefois, certains auteurs, à la suite de Nicolas Bourbaki, insistent sur l'utilisation du singulier, pour montrer l'uniformisation apportée par l'approche axiomatique contemporaine : Jean Dieudonné semble être le premier à avoir insisté sur ce point, et le vaste traité de Bourbaki (dont il est l'un des principaux rédacteurs) s'intitule Éléments de mathématique, tandis que, par contraste, le fascicule historique qui l'accompagne a pour titre Éléments d'histoire des mathématiques. Cédric Villani préconise l'utilisation du singulier pour affirmer l'unité du domaine[4].\n",
      "\n",
      "Dans le registre familier, le terme « mathématiques » est fréquemment apocopé en « maths », parfois aussi écrit « math ».\n",
      "\n",
      "Un portrait d'Euclide de Mégare, qui représente en fait le mathématicien Euclide.\n",
      "\n",
      "Il est probable que l'être humain a développé des compétences mathématiques avant l'apparition de l'écriture. Les premiers objets reconnus attestant de compétences calculatoires sont les bâtons de comptage, tels que l'os d'Ishango (en Afrique) datant de 20 000 ans avant notre ère. Le développement des mathématiques en tant que connaissance transmise dans les premières civilisations est lié à leurs applications concrètes : le commerce, la gestion des récoltes, la mesure des surfaces, la prédiction des événements astronomiques, et parfois l'exécution de rituels religieux[réf. nécessaire].\n",
      "\n",
      "Les premiers développements mathématiques concernaient l'extraction des racines carrées, des racines cubiques, la résolution d'équations polynomiales, la trigonométrie, le calcul fractionnaire, l'arithmétique des entiers naturels… Ils s'effectuèrent dans les civilisations akkadienne, babylonienne, égyptienne[5], chinoise ou encore de la vallée de l'Indus.\n",
      "\n",
      "Dans la civilisation grecque, les mathématiques, influencées par les travaux antérieurs et les spéculations philosophiques, recherchent davantage d'abstraction. Les notions de démonstration et de définition axiomatique sont précisées. Deux branches se distinguent, l'arithmétique et la géométrie. Au IIIe siècle av. J.-C. , les Éléments d'Euclide[6] résument et ordonnent les connaissances mathématiques de la Grèce. Hypathie (née entre 355 et 370 - 415, Alexandrie), est la première mathématicienne dont la vie est bien documentée[7].\n",
      "\n",
      "Une page du traité de Al-Khwārizmī.\n",
      "\n",
      "Les mathématiques chinoises et indiennes (plus précisément de la vallée de l'Indus) sont parvenues en occident par la civilisation islamique à travers la conservation de l'héritage grec et l'interfécondation avec les découvertes, notamment en matière de représentation des nombres[réf. nécessaire]. Les travaux mathématiques sont considérablement développés tant en trigonométrie (introduction des fonctions trigonométriques) qu'en arithmétique. L'analyse combinatoire, l'analyse numérique et l'algèbre polynomiale sont inventées et développées.\n",
      "\n",
      "Durant la « renaissance du XIIe siècle », une partie des textes grecs et arabes sont étudiés et traduits en latin. Le savoir est unifié dans la scolastique, réconciliation du christianisme et de la philosophie d'Aristote. La scolastique est alors enseignée dans les universités européennes à partir du XIIIe siècle. La recherche mathématique se concentre en Europe.\n",
      "\n",
      "Au XVIe siècle se développe - avec notamment Pierre de La Ramée - l'idée qu'il existe une « science universelle » (mathesis universalis) sur laquelle il serait possible de fonder l'ensemble des connaissances. Parallèlement, la scolastique fondée sur une philosophie spéculative perd de son prestige et l'aristotélisme est battu en brèche, à l'occasion de la controverse ptoléméo-copernicienne du XVIe au XVIIIe siècle, remettant en cause le postulat antique et médiéval selon lequel la Terre est au centre de l'univers physique (géocentrisme).\n",
      "\n",
      "Au XVIIe siècle, Galilée se rend compte que les mathématiques sont un outil approprié pour décrire le monde physique, ce qu'il résume dans son ouvrage L'Essayeur publié en 1623 en affirmant que « le livre de l'Univers est écrit en langue mathématique ». Les mathématiques constituent donc, avec la démarche expérimentale, l'un des deux piliers du développement de la science moderne. Descartes voit dès 1629, dans les Règles pour la direction de l'esprit, les possibilités qu'offrent les mathématiques pour jouer ce rôle[8]. Descartes souligne, dans le Discours de la méthode, l'attrait des mathématiques, « à cause de la certitude et de l'évidence de leurs raisons ». Le calcul algébrique se développe alors à la suite des travaux de Viète et de Descartes. Newton[N 1] et Leibniz, indépendamment, inventent le calcul infinitésimal.\n",
      "\n",
      "Au cours du XVIIIe siècle et du XIXe siècle, les mathématiques connaissent de forts développements avec l'étude systématique des structures, à commencer par les groupes issus des travaux de Galois sur les équations polynomiales, et les anneaux introduits par Dedekind. Wang Zhenyi, développe une théorie permettant de mieux comprendre les éclipses lunaires[9].\n",
      "\n",
      "Le XIXe siècle voit avec Cantor et Hilbert le développement d'une théorie axiomatique sur tous les objets étudiés, soit la recherche des fondements mathématiques[10]. Ce développement de l'axiomatique conduira plusieurs mathématiciens du XXe siècle à chercher à définir toutes les mathématiques à l'aide d'un langage, la logique mathématique.\n",
      "\n",
      "Le XXe siècle connaît un fort développement en mathématiques avec une spécialisation des domaines, et la naissance ou le développement de nombreuses branches (théorie de la mesure, théorie spectrale, théorie du chaos, topologie algébrique et géométrie algébrique, par exemple)[N 2],[N 3]. L'informatique a eu un impact sur la recherche. D'une part, elle a facilité la communication et le partage des connaissances, d'autre part, elle a fourni un outil appréciable pour la confrontation aux exemples. Ce mouvement a conduit à la modélisation et à la numérisation.\n",
      "\n",
      "Des découpages des mathématiques en deux, trois ou quatre domaines différents sont proposés : algèbre et analyse, ou bien algèbre, analyse et géométrie, ou bien algèbre, analyse, géométrie et probabilités. De tels découpages ne sont pas évidents et les frontières les séparant sont toujours mal définies. En effet, de nombreux résultats font appel à des compétences mathématiques variées. Le théorème de Fermat-Wiles[N 4], établi en 1994, en est un exemple. Bien que l'énoncé en soit formulé de manière dite arithmétique, la preuve nécessite de profondes compétences en analyse et en géométrie.\n",
      "\n",
      "L'algèbre est l'ensemble des méthodes mathématiques visant à étudier et développer les structures algébriques et à comprendre les relations qu'elles entretiennent entre elles. L'algèbre, au sens actuel, trouve historiquement ses origines dans la compréhension des équations polynomiales et dans les développements des méthodes de résolution : les recherches dans ces domaines ont suscité l'émergence des notions qui fondent la théorie des groupes, la théorie de Galois ou encore la géométrie algébrique.\n",
      "\n",
      "En un sens très restrictif, l'analyse est la partie des mathématiques s'intéressant aux questions de régularité des applications d'une variable réelle ou complexe : on parle alors plus volontiers d'analyse réelle ou d'analyse complexe. En un sens élargi, elle englobe toutes les méthodes mathématiques qui s'y apparentent, et un certain nombre de méthodes pour comprendre et analyser les espaces de fonctions.\n",
      "\n",
      "La géométrie tente de comprendre en premier lieu les objets dans l'espace, puis par extension s'intéresse aux propriétés d'objets plus abstraits, à plusieurs dimensions, introduits selon plusieurs approches, relevant autant de l'analyse que de l'algèbre.\n",
      "\n",
      "Les probabilités tentent de formaliser tout ce qui relève de l'aléatoire. Bien qu'elles soient anciennes, elles ont connu un renouveau avec la théorie de la mesure.\n",
      "\n",
      "Les statistiques consistent à recueillir, traiter et synthétiser un ensemble de données, généralement nombreuses.\n",
      "\n",
      "Exemples de domaines transversaux [ modifier | modifier le code ]\n",
      "\n",
      "De nombreux domaines de recherche se situent transversalement par rapport au découpage donné ci-dessus :\n",
      "\n",
      "Mathématiques appliquées et pures [ modifier | modifier le code ]\n",
      "\n",
      "Simulation numérique d'un crash d'une voiture. - L'analyse numérique : domaine applicatif des mathématiques.\n",
      "\n",
      "On fait parfois la distinction entre mathématiques pures et mathématiques appliquées :\n",
      "\n",
      "Les mathématiques pures ont pour objectif le développement des connaissances mathématiques pour elles-mêmes sans aucun intérêt a priori pour les applications, sans aucune motivation d'autres sciences. L'objet de la recherche mathématique peut ainsi être une meilleure compréhension d'une série d'exemples particuliers abstraits, sur lesquels s'appuie et se développe la réflexion mathématique, la généralisation d'un aspect d'une discipline ou la mise en évidence de liens entre diverses disciplines des mathématiques.\n",
      "\n",
      "pour les applications, sans aucune motivation d'autres sciences. L'objet de la recherche mathématique peut ainsi être une meilleure compréhension d'une série d'exemples particuliers abstraits, sur lesquels s'appuie et se développe la réflexion mathématique, la généralisation d'un aspect d'une discipline ou la mise en évidence de liens entre diverses disciplines des mathématiques. Au contraire, les mathématiques appliquées sont la mise en œuvre des connaissances mathématiques pour les besoins de formalisme d'autres sciences (physique, informatique, biologie, astrophysique…), et pour des applications industrielles (ingénierie par exemple). Elles tendent à développer ces outils mathématiques pour répondre à ces demandes, pour résoudre des problèmes posés en termes concrets.\n",
      "\n",
      "En France, cette distinction structure souvent les équipes de recherche, sans forcément hypothéquer les possibilités d'interactions entre elles. Toutefois, la pertinence de cette distinction est remise en cause par un certain nombre de mathématiciens. L'évolution des domaines et de leurs objets d'étude peut également contribuer à déplacer une éventuelle frontière ou notion de séparation. Selon une boutade d'Ian Stewart, auteur de nombreux ouvrages portant sur les mathématiques populaires, dans son œuvre intitulée Mon cabinet des curiosités mathématiques, « La relation entre les mathématiciens purs et appliqués est fondée sur la confiance et la compréhension. Les mathématiciens purs ne font pas confiance aux mathématiciens appliqués, et les mathématiciens appliqués ne comprennent pas les mathématiciens purs »[11]. Les mathématiques appliquées, en un sens mal définies, comprennent entre autres l'analyse numérique, les statistiques appliquées et la théorie de l'optimisation mathématique. Certains domaines de recherche des mathématiques sont nés à la frontière avec d'autres sciences (voir ci-dessous).\n",
      "\n",
      "Les questions traditionnelles que se pose la philosophie au sujet des mathématiques peuvent se classer selon trois thèmes :\n",
      "\n",
      "la nature des objets mathématiques : s'ils existent par eux-mêmes, ou bien s'ils sont des constructions mentales ? Quelle est la nature d'une démonstration logique ou mathématique ? Quels sont les liens entre la logique et les mathématiques ?\n",
      "\n",
      "l'origine de la connaissance mathématique : d'où vient la vérité des mathématiques, et de quelle nature est-elle ? Quelles sont les conditions pour que des mathématiques existent, et leur lien avec l'être humain ? Quels sont les impacts de la structure de la pensée humaine sur la forme et le développement des mathématiques actuelles ? Les limites qu'elle induit ?\n",
      "\n",
      "la relation des mathématiques avec la réalité : quelle relation les mathématiques abstraites entretiennent-elles avec le monde réel ? Quels sont les liens avec les autres sciences ?\n",
      "\n",
      "Les mathématiques sont parfois surnommées « reine des sciences ». Cependant, l'expression remonte à Carl Friedrich Gauss : Regina Scientiarum[12] et le mot scientiarium signifie en réalité « des connaissances ».\n",
      "\n",
      "Aristote : le fondateur de la logique formelle (peinture par Raphaël).\n",
      "\n",
      "Censément, les mathématiques utilisent la logique comme outil pour démontrer des vérités organisées en théories. Une première analyse laisse espérer qu'une utilisation puissante de cet outil tellement sûr, une réduction toujours plus poussée des bases, les axiomes, sur lesquelles s'échafaude l'édifice mathématique, finissent par mener à un corpus de faits incontestables. Plusieurs obstacles se dressent pourtant.\n",
      "\n",
      "D'une part, en tant qu'activité humaine, les mathématiques s'éloignent du modèle d'une construction suivant scrupuleusement les lois de la logique et indépendante du réel. Citons un fait et un phénomène pour illustrer cela. Tout d'abord, les démonstrations que rédigent les mathématiciens ne sont pas formalisées au point de suivre en détail les lois de la logique, car cela est impossible en un temps raisonnablement court. Comme pour n'importe quelle science, l'acceptation de la véracité d'une démonstration, et donc d'un théorème, repose in fine sur un consensus de spécialistes au sujet de la validité de l'approximation de démonstration formelle proposée (voir La Structure des révolutions scientifiques de Thomas Samuel Kuhn). L'avènement de l'informatique a cependant changé la donne, au moins marginalement, puisque celle-ci permet de formaliser et de vérifier des démonstrations de plus en plus complexes[13].\n",
      "\n",
      "Augustin Louis Cauchy, l'un des premiers à donner une fondation rigoureuse à l'analyse.\n",
      "\n",
      "Cependant l'activité mathématique est loin de se réduire à la recherche de démonstrations et à la vérification de celles-ci. La confiance que la communauté mathématique place dans un de ses membres qui propose un résultat nouveau intervient dans la réception qu'aura ce résultat, et ce d'autant plus s'il est inattendu ou modifie la façon de voir les choses. On peut prendre pour exemple historique les controverses sur les géométries non euclidiennes au XIXe siècle, durant lequel les travaux de Lobatchevski ont été largement ignorés ; ou bien, dans un autre ordre d'idée, la difficulté de la réception des travaux du jeune républicain Galois au début du même siècle, notamment par Cauchy[14]. La sociologie des mathématiques étudie de tels phénomènes (voir sociologie des sciences).\n",
      "\n",
      "D'autre part, la solidité même des bases ne peut reposer sur les seules mathématiques. En effet les théorèmes d'incomplétude, démontrés par Kurt Gödel dans la première moitié du XXe siècle, montrent que, contrairement à ce qu'espérait David Hilbert, il est impossible de réduire formellement les bases des mathématiques en un système dont la sûreté se démontre à partir de celles-ci, et cela entraîne que certaines propriétés considérées « vraies » resteront inaccessibles à la démonstration, quels que soient les axiomes choisis.\n",
      "\n",
      "L'enseignement des mathématiques peut aussi bien désigner l'apprentissage des notions mathématiques fondamentales ou élémentaires de base que l'apprentissage et l'initiation à la recherche (enseignement supérieur des mathématiques). Suivant les époques et les lieux, les choix des matières enseignées et les méthodes d'enseignement changent (mathématiques modernes, méthode de Moore, éducation classique…). Dans certains pays, le choix des programmes scolaires dans l'éducation publique est fait par des institutions officielles. Malgré les contributions des mathématiciennes à travers les siècles, depuis la fin des années 1990, la National Science Foundation aux États-Unis note un déclin de la part relative des diplômes de premier cycle octroyés à des femmes en mathématiques ainsi que dans d'autres disciplines des « STGM » (Sciences, technologies, génie et mathématiques)[15]. Plusieurs associations œuvrent pour la promotion des femmes en mathématiques. Aux États-Unis, l'Association for Women in Mathematics est fondée en 1971 par Mary Gray, Alice T. Schafer et Lenore Blum. En France par exemple, l'organisme Femmes et Mathématiques est soutenue dès sa création en 1987 par Huguette Delavault.\n",
      "\n",
      "Cédric Villani, dans une conférence TED, rappelle une difficulté importante que l'enseignement des mathématiques ne résoudra pas à lui seul : le processus d'une découverte mathématique ne relève pas lui-même des mathématiques[16]. George Pólya indiqua en revanche vers le milieu du 20e siècle quelques techniques permettant de résoudre des problèmes existants, dans son livre Comment poser et résoudre un problème (« How to solve it »).\n",
      "\n",
      "Vers la même époque quelques ouvrages proposaient d'acquérir les mécanismes de résolution par une multitude d'exercices proposés avec leur correction détaillée en regard. En France et pour les mathématiques, il y eut dans le secondaire les ouvrages de Pierre Louquet. Dans le monde anglophone et concernant un grand nombre de disciplines, la série des Schaum's Outlines (en) poursuit ce but.\n",
      "\n",
      "Aujourd'hui, de nombreuses études permettent de comprendre les facteurs qui ont une influence sur l'enseignement des mathématiques. Des études menées dans des pays industrialisés ont montré que les enfants de parents plus instruits suivent davantage de cours de mathématiques et de sciences dans le deuxième cycle du secondaire et réussissent mieux[17],[18],[19]. D’autres études qui comparent les multiples influences sur les performances des enfants en mathématiques ont constaté que c’est le niveau d’instruction des mères qui a l’effet le plus grand[20],[21],[22]. Il a été montré qu’un statut socioéconomique plus élevé est associé à des scores supérieurs en mathématiques des garçons comme des filles. L’étude PISA 2015 a constaté qu’une augmentation d’une unité de l’indice PISA de statut économique, social et culturel se traduisait par une augmentation de 38 points de score en sciences et de 37 points en mathématiques[17]. Cette augmentation est peut-être liée au fait que les parents fournissent un supplément d’aide à l’apprentissage à l’école et à la maison, avec des attentes scolaires plus élevées, et des convictions moins traditionnelles concernant les rôles de genre et les parcours de carrière dans ces contextes[23]. L’intérêt des enfants pour les STEM et leur réussite dans les STEM peuvent aussi être renforcés par les dispositions prises par les parents pour fournir un soutien éducatif, y compris un tutorat privé[24].\n",
      "\n",
      "Une carence d'éducation mathématique induit chez les adolescents des niveaux d'inhibiteurs cérébraux réduits dans une zone clé pour le raisonnement et l'apprentissage. En effet, une étude montre que la pratique des raisonnements mathématiques chez l'adolescent augmente la concentration d'acide γ-aminobutyrique (GABA), un neurotransmetteur inhibiteur, crucial pour la plasticité neuronale, dans le gyrus frontal moyen, une zone du cerveau impliquée dans le raisonnement, la résolution de problème, la mémoire et l'apprentissage[25]. Selon Roi Cohen Kadosh (en), professeur de neurosciences cognitives à l’université d'Oxford et un des auteurs de l'étude, « Tous les adolescents n’apprécient pas les mathématiques, nous devons donc rechercher des alternatives possibles, telles que l’entraînement à la logique et au raisonnement qui impliquent la même zone du cerveau que les mathématiques »[26].\n",
      "\n",
      "Activité de recherche [ modifier | modifier le code ]\n",
      "\n",
      "La recherche mathématique ne se limite pas qu'à la démonstration des théorèmes. L'une des méthodes les plus fructueuses de recherche mathématique est la mise en rapprochement de domaines a priori éloignés en mettant en lumière des phénomènes analogues (par exemple, la géométrie euclidienne et les équations différentielles linéaires). L'identification de phénomènes analogues peut conduire à vouloir adapter des résultats d'un domaine des mathématiques à un autre, à reformuler des éléments de démonstration en termes équivalents, à tenter une axiomatisation d'un objet (par exemple, ce pourrait être la notion d'espace vectoriel) qui regrouperait les deux domaines… Dans ce dernier cas, ce nouvel objet deviendrait alors un objet d'étude par lui-même. Dans certains cas, l'identification d'objets a priori différents devient nécessaire : le langage des catégories permet de faire ce genre de choses.\n",
      "\n",
      "Une autre méthode de recherche est la confrontation aux exemples et aux cas particuliers. Cette confrontation peut permettre de réfuter des propriétés qu'on pensait ou espérait être vraies (conjectures). Au contraire, elle peut permettre de vérifier des propriétés ou d'amener à les formaliser. Par exemple, en géométrie riemannienne, l'étude des surfaces (donc des objets en dimension 2) et de leurs géodésiques a finalement conduit Anosov à formaliser le difféomorphisme d'Anosov, une transformation possédant d'intéressantes propriétés dynamiques.\n",
      "\n",
      "Les mathématiques utilisent un langage qui leur est propre. Certains termes du langage courant, comme groupe, anneau, corps ou variété peuvent être empruntés et redéfinis pour désigner des objets mathématiques. Mais souvent des termes sont formés et introduits selon les besoins : isomorphisme, topologie, itération… Le nombre élevé de ces termes rend difficile la compréhension des mathématiques par les non mathématiciens.\n",
      "\n",
      "Le langage mathématique s'appuie aussi sur l'usage de formules. Elles comportent des symboles, les uns en rapport avec le calcul propositionnel comme le connecteur binaire d'implication ⇒ {\\displaystyle \\Rightarrow } ou le connecteur unaire de négation ¬ {\\displaystyle\n",
      "\n",
      "eg } , d'autres en rapport avec le calcul des prédicats, comme le quantificateur universel ∀ {\\displaystyle \\forall } ou le quantificateur existentiel ∃ {\\displaystyle \\exists } . La plupart des notations utilisées au XXIe siècle ont été introduites après le XVIIe siècle seulement.\n",
      "\n",
      "Il existe un langage mathématique qui décrit les mathématiques. En ce sens, on dit qu'il s'agit d'un métalangage : il s'agit de la logique mathématique.\n",
      "\n",
      "Rapport avec les autres sciences [ modifier | modifier le code ]\n",
      "\n",
      "Les mathématiques entretiennent des rapports particuliers avec toutes les sciences, au sens large du terme. L'analyse de données (interprétation graphique, données statistiques…) fait appel à des compétences mathématiques variées. Mais des outils avancés de mathématiques interviennent dans les modélisations.\n",
      "\n",
      "Toutes les sciences dites dures, à l'exception des mathématiques, tendent à une compréhension du monde réel. Cette compréhension passe par la mise en place d'un modèle, prenant en compte un certain nombre de paramètres considérés comme causes d'un phénomène. Ce modèle constitue un objet mathématique, dont l'étude permet une meilleure compréhension du phénomène étudié, éventuellement une prédiction qualitative ou quantitative quant à son évolution future.\n",
      "\n",
      "La modélisation fait appel à des compétences relevant essentiellement de l'analyse et des probabilités, mais les méthodes algébriques ou géométriques s'avèrent utiles.\n",
      "\n",
      "Schéma de pendule.\n",
      "\n",
      "Les mathématiques sont nées d'une volonté de compréhension de l'espace ambiant : la géométrie naît de la modélisation de formes idéalisées, et l'arithmétique des besoins des gestions des quantités. Astronomie et géométrie se sont longtemps confondues, jusque dans les civilisations islamiques. Les mathématiques et la physique, après s'être différenciées, ont gardé d'étroits liens. Dans l'histoire contemporaine de ces deux sciences, les mathématiques et la physique se sont influencées mutuellement. La physique moderne use abondamment des mathématiques, en faisant une modélisation systématique pour comprendre les résultats de ses expériences :\n",
      "\n",
      "Un domaine de recherche spécifique, la physique mathématique, tend précisément à développer les méthodes mathématiques mises à l'usage de la physique.\n",
      "\n",
      "Le lien étroit entre mathématiques et physique se reflète dans l'enseignement supérieur des mathématiques. L'enseignement de la physique fait appel à des cours de mathématiques pour physiciens ; et il n'est pas rare que les cursus de mathématiques dans les universités incluent une initiation facultative à la physique.\n",
      "\n",
      "Néanmoins, Albert Einstein est un des premiers à relativiser le domaine des mathématiques en rappelant que la physique en utilise plusieurs formes, au gré de ses besoins, et non une seule. Sa Théorie de la relativité générale utilise par exemple une géométrie non euclidienne formalisée par Minkowski. Il énoncera : « En tant que se rapportant à la réalité, la géométrie euclidienne n'est pas exacte. En tant qu'exacte, elle ne se rapporte pas à la réalité »[27]. Yvonne Choquet-Bruhat est la première à apporter en 1952 la preuve mathématique de l'existence de solutions à l'équation d'Einstein[28].\n",
      "\n",
      "L'essor des techniques au XXe siècle ouvre la voie à une nouvelle science, l'informatique[N 5]. Celle-ci est étroitement liée aux mathématiques, de diverses manières : certains pans de la recherche en informatique théorique peuvent être considérés comme d'essence mathématique, d'autres branches de l'informatique faisant plutôt usage des mathématiques. Les nouvelles technologies de communication ont quant à elles ouvert la voie aux applications à des branches des mathématiques parfois très anciennes (arithmétique), notamment en ce qui concerne les problèmes de sécurité des transmissions : cryptographie et théorie des codes.\n",
      "\n",
      "En contrepartie, les sciences informatiques influencent l'évolution moderne des mathématiques.\n",
      "\n",
      "Les mathématiques discrètes forment un domaine de recherche actuel des mathématiques visant à développer les méthodes utilisées en science informatique, incluant la théorie de la complexité, la théorie de l'information, la théorie des graphes… Parmi les problèmes ouverts, citons notamment le célèbre P=NP en théorie de la complexité, qui fait partie des sept problèmes du prix du millénaire. Celui qui arrivera à décider si P et NP sont différents ou égaux recevra un montant de 1 000 000 USD .\n",
      "\n",
      "L'informatique est également devenue un outil essentiel à l'obtention de nouveaux résultats (un ensemble de techniques connues sous le nom de mathématiques expérimentales) et même à la démonstration de certains théorèmes. L'exemple le plus connu est celui du théorème des quatre couleurs, démontré en 1976 à l'aide d'un ordinateur, car certains des calculs nécessaires sont trop complexes pour être réalisés à la main. Cette évolution bouleverse les mathématiques traditionnelles, où la règle était que le mathématicien puisse vérifier chaque partie de la démonstration. En 1998, la conjecture de Kepler semble avoir également été démontrée partiellement par ordinateur, et une équipe internationale a travaillé depuis sur la rédaction d'une preuve formelle, qui a été achevée (et vérifiée) en 2015.\n",
      "\n",
      "En effet, si la preuve est rédigée de façon formelle, il devient alors possible de la vérifier à l'aide d'un logiciel particulier, appelé assistant de preuve. C'est la meilleure technique connue pour être (presque) certain qu'une démonstration assistée par ordinateur ne souffre d'aucun bug. En l'espace d'une trentaine d'années, le rapport entre les mathématiciens et l'informatique s'est donc complètement renversé : d'abord instrument suspect à éviter si possible dans l'activité mathématique, l'ordinateur est devenu au contraire un outil incontournable.\n",
      "\n",
      "Biologie, chimie et géologie [ modifier | modifier le code ]\n",
      "\n",
      "La biologie est grande consommatrice de mathématiques et notamment de probabilités. La dynamique d'une population se modélise couramment par des chaînes de Markov (théorie des processus discrets) ou par des équations différentielles couplées. Il en va de même pour l'évolution des génotypes : le principe de Hardy-Weinberg, souvent évoqué en génétique, relève de propriétés générales sur les processus à temps discret (existence de lois limites). Plus généralement, la phylogéographie fait appel à des modélisations probabilistes. De plus, la médecine use de tests (statistiques) pour comprendre la validité de tel ou tel traitement. Un domaine spécifique de recherche à la frontière de la biologie est né : la biomathématique.\n",
      "\n",
      "Depuis le début du XXIe siècle, la chimie organique a fait appel à l'informatique pour pouvoir modéliser les molécules en trois dimensions : il s'avère que la forme d'une macromolécule en biologie est variable et détermine son action. Cette modélisation fait appel à la géométrie euclidienne ; les atomes forment une sorte de polyèdre dont les distances et les angles sont fixés par les lois d'interaction.\n",
      "\n",
      "Les géologies structurales et climatologiques font appel à des modèles mêlant des méthodes probabilistes et analytiques, pour pouvoir prédire du risque de catastrophe naturelle. La complexité des modèles est telle qu'une branche de recherche est née à la frontière des mathématiques et de la géophysique, à savoir la géophysique mathématique. De même, la météorologie, l'océanographie et la planétologie sont grandes consommatrices de mathématiques car elles nécessitent des modélisations.\n",
      "\n",
      "Le rapport des mathématiques avec les sciences humaines se fait essentiellement par les statistiques et les probabilités, mais aussi par des équations différentielles, stochastiques ou non, utilisées en sociologie, psychologie, économie, finance, gestion d'entreprise, linguistique…\n",
      "\n",
      "La logique est depuis l'Antiquité l'une des trois grandes disciplines de la philosophie, avec l'éthique et la physique. Des philosophes comme Pythagore et Thales de Milet ont formalisé les célèbres théorèmes géométriques portant leur nom. « Que nul n'entre ici s'il n'est géomètre », était-il gravé sur le portail de l'Académie de Platon, pour qui les mathématiques sont un intermédiaire pour accéder au monde des Idées.\n",
      "\n",
      "Notamment, les mathématiques financières sont une branche des mathématiques appliquées visant à la compréhension de l'évolution des marchés financiers et de l'estimation des risques. Cette branche des mathématiques se développe à la frontière des probabilités et de l'analyse et use des statistiques.\n",
      "\n",
      "Beaucoup plus subtil est le cas de l'économie mathématique. Le postulat fondamental de cette discipline est que l'activité économique peut se comprendre à partir d'un axiome de nature anthropologique, celui de l'acteur individuel rationnel. Dans cette vision, chaque individu cherche par ses actions à accroître un certain profit, et ce de façon rationnelle. Cette sorte de vision atomiste de l'économie permet à celle-ci de mathématiser relativement aisément sa réflexion, puisque le calcul individuel se transpose en calcul mathématique. Cette modélisation mathématique en économie permet de percer à jour des mécanismes économiques qui n'auraient pu être découverts que très difficilement par une analyse « littéraire ». Par exemple, les explications des cycles économiques ne sont pas triviales. Sans modélisation mathématique, on peut difficilement aller au-delà du simple constat statistique ou des spéculations non prouvées. Toutefois, certains sociologues, comme Bourdieu, et même certains économistes, refusent ce postulat de l'homo œconomicus, en remarquant que les motivations des individus comprennent non seulement le don, mais dépendent également d'autres enjeux dont l'intérêt financier n'est qu'une partie, ou tout simplement ne sont pas rationnelles. La mathématisation est donc, selon eux, un habillage permettant une valorisation scientifique de la matière.\n",
      "\n",
      "On assiste également au début du XXe siècle, à une réflexion pour mettre les mouvements historiques en formule, comme le fait Nikolaï Kondratiev, qui discerne un cycle de base pour expliquer les phases d'expansion et de crise en économie politique, ou Nicolas-Remi Brück et Charles Henri Lagrange[29] qui, dès la fin du XIXe siècle, ont amplifié leur analyse jusqu'à pénétrer dans le domaine de la géopolitique, en voulant établir l'existence, dans l'histoire, de mouvements de vaste amplitude qui mènent les peuples à leur apogée, puis à leur déclin[30].\n",
      "\n",
      "Cependant une mathématisation des sciences humaines n'est pas sans danger. Dans l'essai polémique Impostures intellectuelles, Sokal et Bricmont dénoncent la relation, non fondée ou abusive, d'une terminologie scientifique, en particulier mathématique et physique, dans le domaine des sciences humaines. L'étude de systèmes complexes (évolution du chômage, capital d'une entreprise, évolution démographique d'une population…) fait appel à des connaissances mathématiques élémentaires, mais le choix des critères de comptage, notamment dans le cas du chômage, ou de la modélisation peut être sujet à polémique.\n",
      "\n",
      "L'écologie utilise également un grand nombre de modèles[31] pour simuler la dynamique des populations, étudier des écosystèmes comme le modèle proie-prédateur, mesurer les diffusions de pollutions[32] ou évaluer les changements climatiques issus du réchauffement[33]. Ces outils permettent de communiquer sur des données chiffrées, pour éventuellement les critiquer ou les confronter entre elles. Se pose alors le problème de la validation de ces modèles, notamment dans le cas où les résultats peuvent influer sur des décisions politiques et où l'existence de modèles contradictoires entre eux permet aux États de choisir le plus favorable à leur décision[34].\n",
      "\n",
      "Les mathématiques ont entretenu pendant longtemps des liens très étroits avec l'astrologie. Celle-ci, par le biais de thèmes astraux, a servi de motivation dans l'étude de l'astronomie. Des mathématiciens de renom furent également considérés comme des grands astrologues. On peut citer Ptolémée, les astronomes de langue arabe, Regiomontanus, Cardan, Kepler, ou encore John Dee. Au Moyen Âge, l'astrologie est considérée comme une science se rangeant dans les mathématiques. Ainsi Theodor Zwingler signale dans sa grande encyclopédie, concernant l'astrologie, que c'est une science mathématique traitant du « mouvement actif des corps en tant qu'ils agissent sur d'autres corps » et réserve aux mathématiques le soin de « calculer avec probabilité les influences [des astres] » en prévoyant leurs « conjonctions et oppositions »[35]. Les théories astrologiques occidentales contemporaines se targuent de suivre des méthodes scientifiques. En particulier, l'astrologie statistique utilise les tests statistiques pour mettre en évidence d'éventuelles corrélations entre la position des astres et le devenir des êtres humains. Toutefois, ces études initiées par Choisnard et Gauquelin, menées à la marge de la recherche scientifique, n'ont, en date de 2009, pas été productives et n'ont réussi à donner aucune preuve recevable d'un lien de cause à effet.\n",
      "\n",
      "Les mathématiques sont aussi une composante de l'ésotérisme. Très fréquemment, les mathématiciens eux-mêmes ont été tentés de trouver dans la figure ou le nombre un sens caché servant de clé dans la découverte du monde. Dans l'école pythagoricienne, chaque nombre a une signification symbolique et le serment des initiés se serait énoncé devant une tretraktys[36]. De même Platon ne se contente pas d'énumérer les solides qui portent son nom il attribue à chacun d'eux une nature (eau, terre, feu, air, univers)[37]. L'arithmosophie, la numérologie, la gématrie, l'arithmancie tentent, à travers des calculs sur les nombres, de trouver des significations cachées à des textes ou d'en extraire des propriétés prédictives. On retrouve cette fascination pour le nombre et la figure encore de nos jours où certains attribuent des vertus cachées à un pentacle ou un nombre d'or.\n",
      "\n",
      "Au XXIe siècle, ces disciplines ne sont plus considérées comme des sciences[38].\n",
      "\n",
      "Page couverture du Traité de l’harmonie réduite à ses principes naturels de Jean-Philippe Rameau.\n",
      "\n",
      "Les notes qui sonnent bien ensemble à une oreille occidentale sont des sons dont les fréquences fondamentales de vibration sont dans des rapports simples. Par exemple, l'octave est un doublement de fréquence, la quinte une multiplication par 3⁄ 2 .\n",
      "\n",
      "Ce lien entre les fréquences et l'harmonie a été notamment détaillé dans le Traité de l'harmonie réduite à ses principes naturels de Jean-Philippe Rameau[39], compositeur baroque français et théoricien de la musique. Il repose en partie sur l'analyse des harmoniques (notées 2 à 15 dans la figure suivante) d'un son fondamental Do grave (noté 1), les premières harmoniques et leurs octaves sonnant bien entre elles.\n",
      "\n",
      "Les harmoniques sur une portée.\n",
      "\n",
      "Si la courbe tracée en rouge, qui suit les notes harmoniques, a une allure logarithmique, cela correspond au rapport entre deux phénomènes :\n",
      "\n",
      "d'une part, la représentation de la hauteur d'un son par notre système auditif qui est proportionnelle au logarithme de la fréquence du son (une fréquence double correspond toujours à la même « distance sonore » appelée octave) ;\n",
      "\n",
      "d'autre part, les fréquences harmoniques qui sont des multiples entiers de la fréquence fondamentale.\n",
      "\n",
      "Fractale possédant une symétrie d'échelle et une symétrie centrale.\n",
      "\n",
      "Les Occidentaux associent une certaine beauté aux figures symétriques. Une symétrie d'une figure géométrique est, intuitivement, l'existence d'un motif de la figure qui se répète suivant une règle précise, tout en étant partiellement transformé. Mathématiquement, une symétrie est l'existence d'une action non triviale d'un groupe, très souvent par isométrie, c'est-à-dire qui préserve les distances sur la figure. En d'autres termes, l'intuition de la règle est mathématiquement réalisée par le fait que c'est un groupe qui agit sur la figure, et le sentiment qu'une règle régit la symétrie est précisément dû à la structure algébrique de ce groupe.\n",
      "\n",
      "Par exemple, le groupe lié à la symétrie miroir est le groupe cyclique à deux éléments, ℤ/2ℤ. Un test de Rorschach est une figure invariante par cette symétrie, de même qu'un papillon et plus généralement le corps des animaux, du moins en surface. Lorsqu'on dessine la surface de la mer, l'ensemble des vagues possède une symétrie par translation : bouger notre regard de la longueur séparant deux crêtes de vagues ne change pas la vue que l'on a de la mer. Un autre cas de symétrie, cette fois non isométrique et presque toujours seulement approximative, est celui présenté par les fractales : un certain motif se répète à toutes les échelles de vision.\n",
      "\n",
      "La vulgarisation mathématique a pour objectif de présenter les mathématiques en un langage dénué de termes techniques. Comme l'objet d'étude des mathématiques n'a pas de réalité physique, la vulgarisation use souvent d'un vocabulaire imagé, et de comparaisons ou analogies non rigoureuses, pour faire sentir l'idée des développements mathématiques. Parmi les ouvrages qui se fixent ce but, citons Oh, les maths de Yakov Perelman et Le livre qui rend fou de Raymond Smullyan. Toutefois, les mathématiques font rarement l'objet de vulgarisation dans des journaux écrits ou télévisés.\n",
      "\n",
      "Littérature et filmographie [ modifier | modifier le code ]\n",
      "\n",
      "Si nombre de biographies portent sur les mathématiciens, les mathématiques sont un thème certes peu exploité dans la littérature ou la filmographie, mais présent.\n",
      "\n",
      "Plusieurs livres de Denis Guedj, dont :\n",
      "\n",
      "Pièces de théâtre [ modifier | modifier le code ]\n",
      "\n",
      "Spécialistes de théâtre de sciences [ modifier | modifier le code ]\n",
      "\n",
      "Le Théâtre scientifique de Louis Figuier , Fabienne Cardot, Romantisme , 1989\n",
      "\n",
      ", Fabienne Cardot, , 1989 Théâtre et sciences, Le double fondateur , Jacques Baillon, L'Harmattan, 1998\n",
      "\n",
      ", Jacques Baillon, L'Harmattan, 1998 La Recherche théâtrale dans un institut technologique et scientifique , Ouriel Zohar, dans Théâtre et Science , éd. P r Lucile Garbagnati, F. Montaclair et D. Vingler, Presses du Centre Unesco de Besançon et du Théâtre de l'Université de Franche-Comté, Besançon, 1998.\n",
      "\n",
      ", Ouriel Zohar, dans , Lucile Garbagnati, F. Montaclair et D. Vingler, Presses du Centre Unesco de Besançon et du Théâtre de l'Université de Franche-Comté, Besançon, 1998. Théâtre et matière, Les moteurs de représentation , Jacques Baillon, L'Harmattan, 2002\n",
      "\n",
      ", Jacques Baillon, L'Harmattan, 2002 Le Théâtre de sciences , Michel Valmer, CNRS Éditions, 2006\n",
      "\n",
      ", Michel Valmer, CNRS Éditions, 2006 Science on stage, from D r Faustus to Copenhagen , Kirsten Sheperd-Barr, Princeton University Press , 2006.\n",
      "\n",
      ", Kirsten Sheperd-Barr, , 2006. Le Modèle scientifique dans le théâtre de Tom Stoppard , Liliane Campos, dans Epistémocritique , Revue d'études et de recherches sur la littérature et les savoirs, vol. II , 2008\n",
      "\n",
      ", Liliane Campos, dans , Revue d'études et de recherches sur la littérature et les savoirs, , 2008 L'île logique, théâtre et clowns sur la logique, les mathématiques et la physique théorique (CNRS, école Polytechnique), Cédric Aubouy. 2008.\n",
      "\n",
      "Numb3rs , série de Nicolas Falacci et Cheryl Heuton.\n",
      "\n",
      ", série de Nicolas Falacci et Cheryl Heuton. Eureka , série télévisée créée par Andrew Cosby et Jaime Paglia.\n",
      "\n",
      ", série télévisée créée par Andrew Cosby et Jaime Paglia. Stargate Universe\n",
      "\n",
      "Notes et références [ modifier | modifier le code ]\n",
      "\n",
      "Sur les autres projets Wikimedia :\n",
      "\n",
      "Mathématiques. Il existe une catégorie consacrée à ce sujet :\n"
     ]
    }
   ],
   "source": [
    "from textblob import TextBlob\n",
    "from newspaper import Article\n",
    "\n",
    "url = 'https://fr.wikipedia.org/wiki/Mathématiques'\n",
    "article = Article(url)\n",
    "article.download()\n",
    "article.parse()\n",
    "article.nlp()\n",
    "\n",
    "text = article.text\n",
    "print(text)\n"
   ]
  },
  {
   "cell_type": "code",
   "execution_count": 5,
   "id": "9f553aee-a6da-4598-8673-0b4bbf1d0d20",
   "metadata": {},
   "outputs": [
    {
     "name": "stdout",
     "output_type": "stream",
     "text": [
      "Les mathématiques (ou la mathématique) sont un ensemble de connaissances abstraites résultant de raisonnements logiques appliqués à des objets divers tels que les ensembles mathématiques, les nombres, les formes, les structures, les transformations, etc.\n",
      "Il existe également une certaine séparation entre les mathématiques pures et les mathématiques appliquées.\n",
      "On fait parfois la distinction entre mathématiques pures et mathématiques appliquées :Les mathématiques pures ont pour objectif le développement des connaissances mathématiques pour elles-mêmes sans aucun intérêt a priori pour les applications, sans aucune motivation d'autres sciences.\n",
      "la relation des mathématiques avec la réalité : quelle relation les mathématiques abstraites entretiennent-elles avec le monde réel ?\n",
      "L'enseignement des mathématiques peut aussi bien désigner l'apprentissage des notions mathématiques fondamentales ou élémentaires de base que l'apprentissage et l'initiation à la recherche (enseignement supérieur des mathématiques).\n"
     ]
    }
   ],
   "source": [
    "text = article.summary\n",
    "print(text)"
   ]
  },
  {
   "cell_type": "code",
   "execution_count": 6,
   "id": "f6355a0e-ac0c-4fc2-a81a-b0ee74a4adfc",
   "metadata": {},
   "outputs": [
    {
     "name": "stdout",
     "output_type": "stream",
     "text": [
      "-0.8\n"
     ]
    }
   ],
   "source": [
    "\n",
    "blob = TextBlob(text)\n",
    "sentiment = blob.sentiment.polarity \n",
    "print(sentiment)"
   ]
  },
  {
   "cell_type": "code",
   "execution_count": 7,
   "id": "57343ec4-82f3-4352-99c8-d10cd8572dd5",
   "metadata": {},
   "outputs": [
    {
     "name": "stdout",
     "output_type": "stream",
     "text": [
      "Vrai ou faux\n",
      "\n",
      "Guerre entre le Hamas et Israël : on a reconstitué l'attaque contre le festival de Réïm\n",
      "\n",
      "Au moins 260 personnes ont été tuées samedi 7 octobre par des assaillants du Hamas, lors d'un festival de musique techno à Réïm, en Israël. Franceinfo a reconstitué le déroulé des faits grâce à des images amateurs.\n"
     ]
    }
   ],
   "source": [
    "\n",
    "from textblob import TextBlob\n",
    "from newspaper import Article\n",
    "\n",
    "url = 'https://www.francetvinfo.fr/'\n",
    "article = Article(url)\n",
    "article.download()\n",
    "article.parse()\n",
    "article.nlp()\n",
    "\n",
    "text = article.text\n",
    "print(text)"
   ]
  },
  {
   "cell_type": "code",
   "execution_count": 8,
   "id": "fdb9419a-3035-4e14-9f6d-03cb83284ea6",
   "metadata": {},
   "outputs": [
    {
     "name": "stdout",
     "output_type": "stream",
     "text": [
      "Vrai ou fauxGuerre entre le Hamas et Israël : on a reconstitué l'attaque contre le festival de RéïmAu moins 260 personnes ont été tuées samedi 7 octobre par des assaillants du Hamas, lors d'un festival de musique techno à Réïm, en Israël.\n",
      "Franceinfo a reconstitué le déroulé des faits grâce à des images amateurs.\n"
     ]
    }
   ],
   "source": [
    "text = article.summary\n",
    "print(text)"
   ]
  },
  {
   "cell_type": "code",
   "execution_count": 9,
   "id": "970a2a80-6f07-4562-b219-2120322f48c0",
   "metadata": {},
   "outputs": [
    {
     "name": "stdout",
     "output_type": "stream",
     "text": [
      "0.0\n"
     ]
    }
   ],
   "source": [
    "blob = TextBlob(text)\n",
    "sentiment = blob.sentiment.polarity \n",
    "print(sentiment)"
   ]
  },
  {
   "cell_type": "code",
   "execution_count": 11,
   "id": "0fd0e234-54a6-4142-b6f2-c4e2afee54e9",
   "metadata": {},
   "outputs": [
    {
     "name": "stdout",
     "output_type": "stream",
     "text": [
      "Live Article se déroulant en directEn direct, guerre Israël-Hamas : le point sur la situation à la mi-journéeSAID KHATIB / AFPAu sixième jour de la guerre, on compte plus de 1 350 personnes tuées dans la bande de Gaza, où les bombardements continuent.\n",
      "Le dernier bilan côté israélien dépasse 1 200 morts.\n",
      "Emmanuel Macron a annoncé jeudi que quatre enfants se trouvent parmi les dix-sept Français portés disparus.\n"
     ]
    }
   ],
   "source": [
    "\n",
    "from textblob import TextBlob\n",
    "from newspaper import Article\n",
    "\n",
    "url = 'https://www.lemonde.fr/'\n",
    "article = Article(url)\n",
    "article.download()\n",
    "article.parse()\n",
    "article.nlp()\n",
    "text = article.summary\n",
    "print(text)"
   ]
  },
  {
   "cell_type": "code",
   "execution_count": 12,
   "id": "7d87cc7f-d01d-4189-b6cb-f3faf2a31775",
   "metadata": {},
   "outputs": [
    {
     "name": "stdout",
     "output_type": "stream",
     "text": [
      "0.11818181818181818\n"
     ]
    }
   ],
   "source": [
    "blob = TextBlob(text)\n",
    "sentiment = blob.sentiment.polarity \n",
    "print(sentiment)"
   ]
  },
  {
   "cell_type": "code",
   "execution_count": 15,
   "id": "b03306a1-92f1-47e4-99d5-67c02205a91b",
   "metadata": {},
   "outputs": [
    {
     "name": "stdout",
     "output_type": "stream",
     "text": [
      "0.3198906356801094\n"
     ]
    }
   ],
   "source": [
    "#analyse own text\n",
    "from textblob import TextBlob\n",
    "\n",
    "with open('my_text.txt', 'r') as f :\n",
    "    text = f.read()\n",
    "\n",
    "blob = TextBlob(text)\n",
    "sentiment = blob.sentiment.polarity \n",
    "print(sentiment)"
   ]
  },
  {
   "cell_type": "code",
   "execution_count": null,
   "id": "59ed0df1-c3a4-4168-b1ef-759f21a41992",
   "metadata": {},
   "outputs": [],
   "source": []
  }
 ],
 "metadata": {
  "kernelspec": {
   "display_name": "Python 3 (ipykernel)",
   "language": "python",
   "name": "python3"
  },
  "language_info": {
   "codemirror_mode": {
    "name": "ipython",
    "version": 3
   },
   "file_extension": ".py",
   "mimetype": "text/x-python",
   "name": "python",
   "nbconvert_exporter": "python",
   "pygments_lexer": "ipython3",
   "version": "3.11.3"
  }
 },
 "nbformat": 4,
 "nbformat_minor": 5
}
